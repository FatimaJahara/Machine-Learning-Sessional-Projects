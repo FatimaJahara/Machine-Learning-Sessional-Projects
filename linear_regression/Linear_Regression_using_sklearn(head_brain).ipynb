{
 "cells": [
  {
   "cell_type": "code",
   "execution_count": 31,
   "metadata": {},
   "outputs": [
    {
     "name": "stdout",
     "output_type": "stream",
     "text": [
      "R2 Score of Training Dataset: 0.6260121814103357\n",
      "R2 Score of Test Dataset: 0.6692358218263688\n"
     ]
    }
   ],
   "source": [
    "%matplotlib inline\n",
    "import numpy as np\n",
    "import pandas as pd\n",
    "import matplotlib.pyplot as plt\n",
    "\n",
    "from sklearn.linear_model import LinearRegression\n",
    "from sklearn.metrics import mean_squared_error\n",
    "from sklearn.cross_validation import train_test_split\n",
    "\n",
    "data = pd.read_csv('headbrain.csv')\n",
    "\n",
    "X=data['Head Size(cm^3)'].values\n",
    "Y=data['Brain Weight(grams)'].values\n",
    "\n",
    "l=len(X)\n",
    "X=X.reshape((l,1))\n",
    "\n",
    "X_train, X_test, y_train, y_test = train_test_split(X, Y,random_state = 0)\n",
    "\n",
    "reg=LinearRegression()\n",
    "reg=reg.fit(X_train, y_train)\n",
    "\n",
    "r2_train = reg.score(X_train,y_train)\n",
    "print(\"R2 Score of Training Dataset:\",r2_train)\n",
    "\n",
    "r2_test = reg.score(X_test,y_test)\n",
    "print(\"R2 Score of Test Dataset:\",r2_test)\n"
   ]
  },
  {
   "cell_type": "code",
   "execution_count": 35,
   "metadata": {},
   "outputs": [
    {
     "data": {
      "image/png": "[encoded data removed]",
      "text/plain": [
       "<Figure size 432x288 with 1 Axes>"
      ]
     },
     "metadata": {},
     "output_type": "display_data"
    }
   ],
   "source": [
    "y_pred = reg.predict(X)\n",
    "plt.plot(X,y_pred,color = '#58b970', label='Regression Line')\n",
    "plt.scatter(X,Y,color = '#ef5423', label='Scatter Plot')\n",
    "\n",
    "plt.xlabel('Head Size(cm^3)')\n",
    "plt.ylabel('Brain Weight(grams)')\n",
    "plt.legend()\n",
    "plt.show()"
   ]
  },
  {
   "cell_type": "code",
   "execution_count": 39,
   "metadata": {},
   "outputs": [
    {
     "name": "stdout",
     "output_type": "stream",
     "text": [
      "Actual Brain Weight(grams) ----> Predicted Brain Weight(grams)\n",
      "\n",
      "             1280          ---->    1306.6226748613444\n",
      "             1321          ---->    1295.3628658530638\n",
      "             1425          ---->    1385.4413379193093\n",
      "             1250          ---->    1255.441724823705\n",
      "             1350          ---->    1321.4651503722598\n",
      "             1408          ---->    1286.9180090968532\n",
      "             1440          ---->    1502.1339040051273\n",
      "             1210          ---->    1257.7448675753988\n",
      "             1422          ---->    1385.9531474196856\n",
      "             1405          ---->    1339.1225781352455\n",
      "             1362          ---->    1406.4255274347415\n",
      "             1150          ---->    1138.4932539876988\n",
      "             1175          ---->    1202.7253462849362\n",
      "             1430          ---->    1334.7721973820462\n",
      "             1120          ---->    1221.4063930486748\n",
      "             1192          ---->    1233.6898210577083\n",
      "             1163          ---->    1283.0794378440303\n",
      "             1360          ---->    1355.7563868974785\n",
      "             1160          ---->    1243.9260110652363\n",
      "             1355          ---->    1278.2172475904545\n",
      "             1225          ---->    1238.5520113112839\n",
      "             1370          ---->    1418.1971459433985\n",
      "             1440          ---->    1353.4532441457845\n",
      "             1300          ---->    1271.051914585185\n",
      "             1275          ---->    1327.0950548764004\n",
      "             1350          ---->    1312.7643888658613\n",
      "             1127          ---->    1165.1073480072714\n",
      "             1355          ---->    1285.1266758455358\n",
      "             1620          ---->    1487.2914284942117\n",
      "             1027          ---->    1084.7532564481774\n",
      "             1142          ---->    1189.9301087755266\n",
      "             1250          ---->    1272.0755335859378\n",
      "             1103          ---->    1243.9260110652363\n",
      "             1280          ---->    1378.531909664228\n",
      "             1340          ---->    1342.193435137504\n",
      "             1322          ---->    1227.036297552815\n",
      "             1374          ---->    1326.8391501262122\n",
      "             1296          ---->    1375.9728621623458\n",
      "             1240          ---->    1332.213149880164\n",
      "             1132          ---->    1246.7409633173063\n",
      "             1390          ---->    1340.9139113865629\n",
      "             1340          ---->    1145.6585869929684\n",
      "             1168          ---->    1144.3790632420273\n",
      "             1405          ---->    1345.5201968899505\n",
      "             1485          ---->    1441.9962877109008\n",
      "             1255          ---->    1264.3983910802917\n",
      "             1140          ---->    1223.9654405505567\n",
      "             1202          ---->    1158.4538245023782\n",
      "             1080          ---->    1147.961729744662\n",
      "             1022          ---->    1139.0050634880752\n",
      "             1220          ---->    1224.2213453007448\n",
      "             1230          ---->    1290.7565803496764\n",
      "             1245          ---->    1269.0046765836796\n",
      "             1405          ---->    1418.4530506935866\n",
      "             1195          ---->    1222.1741072992395\n",
      "             1265          ---->    1192.7450610275966\n",
      "             1078          ---->    1139.5168729884517\n",
      "             1250          ---->    1184.8120137717624\n",
      "             1470          ---->    1307.390389111909\n",
      "             1060          ---->    1105.7374459636094\n"
     ]
    }
   ],
   "source": [
    "print(\"Actual Brain Weight(grams) ----> Predicted Brain Weight(grams)\\n\")\n",
    "n = len(y_test)\n",
    "for i in range(n): \n",
    "    print(\"             \"+str(y_test[i])+\"          ---->    \"+str(y_pred[i]))"
   ]
  },
  {
   "cell_type": "code",
   "execution_count": null,
   "metadata": {},
   "outputs": [],
   "source": []
  }
 ],
 "metadata": {
  "kernelspec": {
   "display_name": "Python 3",
   "language": "python",
   "name": "python3"
  },
  "language_info": {
   "codemirror_mode": {
    "name": "ipython",
    "version": 3
   },
   "file_extension": ".py",
   "mimetype": "text/x-python",
   "name": "python",
   "nbconvert_exporter": "python",
   "pygments_lexer": "ipython3",
   "version": "3.6.5"
  }
 },
 "nbformat": 4,
 "nbformat_minor": 2
}
