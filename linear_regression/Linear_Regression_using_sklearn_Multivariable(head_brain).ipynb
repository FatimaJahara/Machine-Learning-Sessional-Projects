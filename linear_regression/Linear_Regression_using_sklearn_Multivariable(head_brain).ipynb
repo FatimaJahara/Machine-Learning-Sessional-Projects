{
 "cells": [
  {
   "cell_type": "code",
   "execution_count": 2,
   "metadata": {},
   "outputs": [
    {
     "data": {
      "text/html": [
       "<div>\n",
       "<style scoped>\n",
       "    .dataframe tbody tr th:only-of-type {\n",
       "        vertical-align: middle;\n",
       "    }\n",
       "\n",
       "    .dataframe tbody tr th {\n",
       "        vertical-align: top;\n",
       "    }\n",
       "\n",
       "    .dataframe thead th {\n",
       "        text-align: right;\n",
       "    }\n",
       "</style>\n",
       "<table border=\"1\" class=\"dataframe\">\n",
       "  <thead>\n",
       "    <tr style=\"text-align: right;\">\n",
       "      <th></th>\n",
       "      <th>Gender</th>\n",
       "      <th>Age Range</th>\n",
       "      <th>Head Size(cm^3)</th>\n",
       "      <th>Brain Weight(grams)</th>\n",
       "    </tr>\n",
       "  </thead>\n",
       "  <tbody>\n",
       "    <tr>\n",
       "      <th>0</th>\n",
       "      <td>1</td>\n",
       "      <td>1</td>\n",
       "      <td>4512</td>\n",
       "      <td>1530</td>\n",
       "    </tr>\n",
       "    <tr>\n",
       "      <th>1</th>\n",
       "      <td>1</td>\n",
       "      <td>1</td>\n",
       "      <td>3738</td>\n",
       "      <td>1297</td>\n",
       "    </tr>\n",
       "    <tr>\n",
       "      <th>2</th>\n",
       "      <td>1</td>\n",
       "      <td>1</td>\n",
       "      <td>4261</td>\n",
       "      <td>1335</td>\n",
       "    </tr>\n",
       "    <tr>\n",
       "      <th>3</th>\n",
       "      <td>1</td>\n",
       "      <td>1</td>\n",
       "      <td>3777</td>\n",
       "      <td>1282</td>\n",
       "    </tr>\n",
       "    <tr>\n",
       "      <th>4</th>\n",
       "      <td>1</td>\n",
       "      <td>1</td>\n",
       "      <td>4177</td>\n",
       "      <td>1590</td>\n",
       "    </tr>\n",
       "  </tbody>\n",
       "</table>\n",
       "</div>"
      ],
      "text/plain": [
       "   Gender  Age Range  Head Size(cm^3)  Brain Weight(grams)\n",
       "0       1          1             4512                 1530\n",
       "1       1          1             3738                 1297\n",
       "2       1          1             4261                 1335\n",
       "3       1          1             3777                 1282\n",
       "4       1          1             4177                 1590"
      ]
     },
     "execution_count": 2,
     "metadata": {},
     "output_type": "execute_result"
    }
   ],
   "source": [
    "%matplotlib inline\n",
    "import numpy as np\n",
    "import pandas as pd\n",
    "import matplotlib.pyplot as plt\n",
    "\n",
    "from sklearn.linear_model import LinearRegression\n",
    "from sklearn.metrics import mean_squared_error\n",
    "from sklearn.cross_validation import train_test_split\n",
    "\n",
    "df = pd.read_csv('headbrain.csv')\n",
    "df.head()"
   ]
  },
  {
   "cell_type": "code",
   "execution_count": 24,
   "metadata": {},
   "outputs": [
    {
     "name": "stdout",
     "output_type": "stream",
     "text": [
      "R2 Score of Training Dataset: 0.6407185838807579\n",
      "R2 Score of Test Dataset: 0.6716844503086252\n"
     ]
    }
   ],
   "source": [
    "X=df[['Head Size(cm^3)','Gender','Age Range']].values\n",
    "Y=df[['Brain Weight(grams)']].values\n",
    "\n",
    "X_train, X_test, y_train, y_test = train_test_split(X, Y,random_state = 0)\n",
    "\n",
    "reg=LinearRegression()\n",
    "reg=reg.fit(X_train, y_train)\n",
    "\n",
    "r2_train = reg.score(X_train,y_train)\n",
    "print(\"R2 Score of Training Dataset:\",r2_train)\n",
    "\n",
    "r2_test = reg.score(X_test,y_test)\n",
    "print(\"R2 Score of Test Dataset:\",r2_test)"
   ]
  },
  {
   "cell_type": "code",
   "execution_count": 64,
   "metadata": {},
   "outputs": [
    {
     "name": "stdout",
     "output_type": "stream",
     "text": [
      "Actual Brain Weight(grams) ----> Predicted Brain Weight(grams)\n",
      "\n",
      "             1280          ---->    1312.5146779720426\n",
      "             1321          ---->    1302.0816268037534\n",
      "             1425          ---->    1371.1110674563017\n",
      "             1250          ---->    1250.6567494224198\n",
      "             1350          ---->    1311.832367636478\n",
      "             1408          ---->    1265.332068221548\n",
      "             1440          ---->    1479.2354159276604\n",
      "             1210          ---->    1267.225751309697\n",
      "             1422          ---->    1400.5100672608492\n",
      "             1405          ---->    1313.7034872745242\n",
      "             1362          ---->    1390.5544809972039\n",
      "             1150          ---->    1127.8054846395567\n",
      "             1175          ---->    1187.3212992586598\n",
      "             1430          ---->    1324.1623371990013\n",
      "             1120          ---->    1204.6306796060485\n",
      "             1192          ---->    1244.9369601774433\n",
      "             1163          ---->    1290.7001164383473\n",
      "             1360          ---->    1343.6057507399034\n",
      "             1160          ---->    1254.421552148615\n",
      "             1355          ---->    1300.6847367642658\n",
      "             1225          ---->    1263.931942875975\n",
      "             1370          ---->    1401.4617617640515\n",
      "             1440          ---->    1341.4717175463898\n",
      "             1300          ---->    1294.0455223844456\n",
      "             1275          ---->    1345.9736634266112\n",
      "             1350          ---->    1332.6952346669707\n",
      "             1127          ---->    1181.3901939705922\n",
      "             1355          ---->    1307.086836344807\n",
      "             1620          ---->    1465.4827575694612\n",
      "             1027          ---->    1106.9361469968935\n",
      "             1142          ---->    1175.4655592946951\n",
      "             1250          ---->    1266.069211375574\n",
      "             1103          ---->    1225.4967819426263\n",
      "             1280          ---->    1379.1439365695244\n",
      "             1340          ---->    1359.9634365840898\n",
      "             1322          ---->    1238.7719753961817\n",
      "             1374          ---->    1331.2467471151067\n",
      "             1296          ---->    1347.8480183707425\n",
      "             1240          ---->    1321.7911892062084\n",
      "             1132          ---->    1242.5948462469237\n",
      "             1390          ---->    1329.8530923817043\n",
      "             1340          ---->    1177.859270737591\n",
      "             1168          ---->    1162.1838952289693\n",
      "             1405          ---->    1363.0459289747205\n",
      "             1485          ---->    1423.513438097026\n",
      "             1255          ---->    1287.880537603184\n",
      "             1140          ---->    1235.9265978048302\n",
      "             1202          ---->    1175.2252091893306\n",
      "             1080          ---->    1165.5035024188794\n",
      "             1022          ---->    1128.2797142381153\n",
      "             1220          ---->    1207.2389423981206\n",
      "             1230          ---->    1283.3785917229625\n",
      "             1245          ---->    1263.2238337842223\n",
      "             1405          ---->    1430.6236467693197\n",
      "             1195          ---->    1219.8318255161114\n",
      "             1265          ---->    1206.9985922927563\n",
      "             1078          ---->    1157.6787140426627\n",
      "             1250          ---->    1199.648033515098\n",
      "             1470          ---->    1298.7910536761167\n",
      "             1060          ---->    1097.454790331807\n"
     ]
    }
   ],
   "source": [
    "y_pred = reg.predict(X_test)\n",
    "print(\"Actual Brain Weight(grams) ----> Predicted Brain Weight(grams)\\n\")\n",
    "n = y_test.shape[0]\n",
    "for i in range(n): \n",
    "    print(\"             \"+str(y_test[i][0])+\"          ---->    \"+str(y_pred[i][0]))"
   ]
  },
  {
   "cell_type": "code",
   "execution_count": 35,
   "metadata": {},
   "outputs": [
    {
     "data": {
      "text/plain": [
       "60"
      ]
     },
     "execution_count": 35,
     "metadata": {},
     "output_type": "execute_result"
    }
   ],
   "source": [
    "n = y_test.shape[0]\n",
    "n"
   ]
  },
  {
   "cell_type": "code",
   "execution_count": null,
   "metadata": {},
   "outputs": [],
   "source": []
  }
 ],
 "metadata": {
  "kernelspec": {
   "display_name": "Python 3",
   "language": "python",
   "name": "python3"
  },
  "language_info": {
   "codemirror_mode": {
    "name": "ipython",
    "version": 3
   },
   "file_extension": ".py",
   "mimetype": "text/x-python",
   "name": "python",
   "nbconvert_exporter": "python",
   "pygments_lexer": "ipython3",
   "version": "3.6.5"
  }
 },
 "nbformat": 4,
 "nbformat_minor": 2
}
